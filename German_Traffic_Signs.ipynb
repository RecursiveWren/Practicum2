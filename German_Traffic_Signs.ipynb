{
 "cells": [
  {
   "cell_type": "code",
   "execution_count": 3,
   "metadata": {},
   "outputs": [],
   "source": [
    "import pickle\n",
    "import numpy as np\n",
    "import skimage.io as io\n",
    "import keras\n",
    "import matplotlib.pyplot as plt\n",
    "%matplotlib inline\n",
    "import tensorflow as tf\n",
    "\n",
    "## Data sources:\n",
    "## Original data repository: http://benchmark.ini.rub.de/?section=gtsrb&subsection=dataset\n",
    "## link to cropped images: https://d17h27t6h515a5.cloudfront.net/topher/2017/February/5898cd6f_traffic-signs-data/traffic-signs-data.zip\n",
    "\n",
    "# Process pickles\n",
    "\n",
    "training_file = 'train.p'\n",
    "testing_file = 'test.p'\n",
    "valid_file ='valid.p'\n",
    "\n",
    "with open(training_file, mode='rb') as f:\n",
    "    train = pickle.load(f)\n",
    "with open(testing_file, mode='rb') as f:\n",
    "    test = pickle.load(f)\n",
    "with open(valid_file, mode='rb') as f:\n",
    "    valid = pickle.load(f)\n",
    "  \n",
    "X_train, y_train = train['features'], train['labels']\n",
    "X_test, y_test = test['features'], test['labels']\n",
    "X_valid, y_valid =valid['features'], test['labels']"
   ]
  },
  {
   "cell_type": "code",
   "execution_count": 4,
   "metadata": {
    "collapsed": true
   },
   "outputs": [],
   "source": [
    "# Converrt to numpy arrays\n",
    "\n",
    "#train images\n",
    "train_features = np.array(X_train)\n",
    "train_labels = np.array(y_train)\n",
    "\n",
    "#Test images\n",
    "test_features = np.array(X_test)\n",
    "test_labels = np.array(y_test)\n",
    "\n",
    "#Validation Images\n",
    "valid_features = np.array(X_valid)\n",
    "valid_labels = np.array(y_valid)"
   ]
  },
  {
   "cell_type": "code",
   "execution_count": 5,
   "metadata": {},
   "outputs": [
    {
     "data": {
      "text/html": [
       "<div>\n",
       "<style>\n",
       "    .dataframe thead tr:only-child th {\n",
       "        text-align: right;\n",
       "    }\n",
       "\n",
       "    .dataframe thead th {\n",
       "        text-align: left;\n",
       "    }\n",
       "\n",
       "    .dataframe tbody tr th {\n",
       "        vertical-align: top;\n",
       "    }\n",
       "</style>\n",
       "<table border=\"1\" class=\"dataframe\">\n",
       "  <thead>\n",
       "    <tr style=\"text-align: right;\">\n",
       "      <th></th>\n",
       "      <th>ClassId</th>\n",
       "      <th>Sign Name</th>\n",
       "    </tr>\n",
       "  </thead>\n",
       "  <tbody>\n",
       "    <tr>\n",
       "      <th>0</th>\n",
       "      <td>0</td>\n",
       "      <td>Speed limit (20km/h)</td>\n",
       "    </tr>\n",
       "    <tr>\n",
       "      <th>1</th>\n",
       "      <td>1</td>\n",
       "      <td>Speed limit (30km/h)</td>\n",
       "    </tr>\n",
       "    <tr>\n",
       "      <th>2</th>\n",
       "      <td>2</td>\n",
       "      <td>Speed limit (50km/h)</td>\n",
       "    </tr>\n",
       "    <tr>\n",
       "      <th>3</th>\n",
       "      <td>3</td>\n",
       "      <td>Speed limit (60km/h)</td>\n",
       "    </tr>\n",
       "    <tr>\n",
       "      <th>4</th>\n",
       "      <td>4</td>\n",
       "      <td>Speed limit (70km/h)</td>\n",
       "    </tr>\n",
       "    <tr>\n",
       "      <th>5</th>\n",
       "      <td>5</td>\n",
       "      <td>Speed limit (80km/h)</td>\n",
       "    </tr>\n",
       "    <tr>\n",
       "      <th>6</th>\n",
       "      <td>6</td>\n",
       "      <td>End of speed limit (80km/h)</td>\n",
       "    </tr>\n",
       "    <tr>\n",
       "      <th>7</th>\n",
       "      <td>7</td>\n",
       "      <td>Speed limit (100km/h)</td>\n",
       "    </tr>\n",
       "    <tr>\n",
       "      <th>8</th>\n",
       "      <td>8</td>\n",
       "      <td>Speed limit (120km/h)</td>\n",
       "    </tr>\n",
       "    <tr>\n",
       "      <th>9</th>\n",
       "      <td>9</td>\n",
       "      <td>No passing</td>\n",
       "    </tr>\n",
       "    <tr>\n",
       "      <th>10</th>\n",
       "      <td>10</td>\n",
       "      <td>No passing for vehicles over 3.5 metric tons</td>\n",
       "    </tr>\n",
       "    <tr>\n",
       "      <th>11</th>\n",
       "      <td>11</td>\n",
       "      <td>Right-of-way at the next intersection</td>\n",
       "    </tr>\n",
       "    <tr>\n",
       "      <th>12</th>\n",
       "      <td>12</td>\n",
       "      <td>Priority road</td>\n",
       "    </tr>\n",
       "    <tr>\n",
       "      <th>13</th>\n",
       "      <td>13</td>\n",
       "      <td>Yield</td>\n",
       "    </tr>\n",
       "    <tr>\n",
       "      <th>14</th>\n",
       "      <td>14</td>\n",
       "      <td>Stop</td>\n",
       "    </tr>\n",
       "    <tr>\n",
       "      <th>15</th>\n",
       "      <td>15</td>\n",
       "      <td>No vehicles</td>\n",
       "    </tr>\n",
       "    <tr>\n",
       "      <th>16</th>\n",
       "      <td>16</td>\n",
       "      <td>Vehicles over 3.5 metric tons prohibited</td>\n",
       "    </tr>\n",
       "    <tr>\n",
       "      <th>17</th>\n",
       "      <td>17</td>\n",
       "      <td>No entry</td>\n",
       "    </tr>\n",
       "    <tr>\n",
       "      <th>18</th>\n",
       "      <td>18</td>\n",
       "      <td>General caution</td>\n",
       "    </tr>\n",
       "    <tr>\n",
       "      <th>19</th>\n",
       "      <td>19</td>\n",
       "      <td>Dangerous curve to the left</td>\n",
       "    </tr>\n",
       "    <tr>\n",
       "      <th>20</th>\n",
       "      <td>20</td>\n",
       "      <td>Dangerous curve to the right</td>\n",
       "    </tr>\n",
       "    <tr>\n",
       "      <th>21</th>\n",
       "      <td>21</td>\n",
       "      <td>Double curve</td>\n",
       "    </tr>\n",
       "    <tr>\n",
       "      <th>22</th>\n",
       "      <td>22</td>\n",
       "      <td>Bumpy road</td>\n",
       "    </tr>\n",
       "    <tr>\n",
       "      <th>23</th>\n",
       "      <td>23</td>\n",
       "      <td>Slippery road</td>\n",
       "    </tr>\n",
       "    <tr>\n",
       "      <th>24</th>\n",
       "      <td>24</td>\n",
       "      <td>Road narrows on the right</td>\n",
       "    </tr>\n",
       "    <tr>\n",
       "      <th>25</th>\n",
       "      <td>25</td>\n",
       "      <td>Road work</td>\n",
       "    </tr>\n",
       "    <tr>\n",
       "      <th>26</th>\n",
       "      <td>26</td>\n",
       "      <td>Traffic signals</td>\n",
       "    </tr>\n",
       "    <tr>\n",
       "      <th>27</th>\n",
       "      <td>27</td>\n",
       "      <td>Pedestrians</td>\n",
       "    </tr>\n",
       "    <tr>\n",
       "      <th>28</th>\n",
       "      <td>28</td>\n",
       "      <td>Children crossing</td>\n",
       "    </tr>\n",
       "    <tr>\n",
       "      <th>29</th>\n",
       "      <td>29</td>\n",
       "      <td>Bicycles crossing</td>\n",
       "    </tr>\n",
       "    <tr>\n",
       "      <th>30</th>\n",
       "      <td>30</td>\n",
       "      <td>Beware of ice/snow</td>\n",
       "    </tr>\n",
       "    <tr>\n",
       "      <th>31</th>\n",
       "      <td>31</td>\n",
       "      <td>Wild animals crossing</td>\n",
       "    </tr>\n",
       "    <tr>\n",
       "      <th>32</th>\n",
       "      <td>32</td>\n",
       "      <td>End of all speed and passing limits</td>\n",
       "    </tr>\n",
       "    <tr>\n",
       "      <th>33</th>\n",
       "      <td>33</td>\n",
       "      <td>Turn right ahead</td>\n",
       "    </tr>\n",
       "    <tr>\n",
       "      <th>34</th>\n",
       "      <td>34</td>\n",
       "      <td>Turn left ahead</td>\n",
       "    </tr>\n",
       "    <tr>\n",
       "      <th>35</th>\n",
       "      <td>35</td>\n",
       "      <td>Ahead only</td>\n",
       "    </tr>\n",
       "    <tr>\n",
       "      <th>36</th>\n",
       "      <td>36</td>\n",
       "      <td>Go straight or right</td>\n",
       "    </tr>\n",
       "    <tr>\n",
       "      <th>37</th>\n",
       "      <td>37</td>\n",
       "      <td>Go straight or left</td>\n",
       "    </tr>\n",
       "    <tr>\n",
       "      <th>38</th>\n",
       "      <td>38</td>\n",
       "      <td>Keep right</td>\n",
       "    </tr>\n",
       "    <tr>\n",
       "      <th>39</th>\n",
       "      <td>39</td>\n",
       "      <td>Keep left</td>\n",
       "    </tr>\n",
       "    <tr>\n",
       "      <th>40</th>\n",
       "      <td>40</td>\n",
       "      <td>Roundabout mandatory</td>\n",
       "    </tr>\n",
       "    <tr>\n",
       "      <th>41</th>\n",
       "      <td>41</td>\n",
       "      <td>End of no passing</td>\n",
       "    </tr>\n",
       "    <tr>\n",
       "      <th>42</th>\n",
       "      <td>42</td>\n",
       "      <td>End of no passing by vehicles over 3.5 metric ...</td>\n",
       "    </tr>\n",
       "  </tbody>\n",
       "</table>\n",
       "</div>"
      ],
      "text/plain": [
       "    ClassId                                          Sign Name\n",
       "0         0                               Speed limit (20km/h)\n",
       "1         1                               Speed limit (30km/h)\n",
       "2         2                               Speed limit (50km/h)\n",
       "3         3                               Speed limit (60km/h)\n",
       "4         4                               Speed limit (70km/h)\n",
       "5         5                               Speed limit (80km/h)\n",
       "6         6                        End of speed limit (80km/h)\n",
       "7         7                              Speed limit (100km/h)\n",
       "8         8                              Speed limit (120km/h)\n",
       "9         9                                         No passing\n",
       "10       10       No passing for vehicles over 3.5 metric tons\n",
       "11       11              Right-of-way at the next intersection\n",
       "12       12                                      Priority road\n",
       "13       13                                              Yield\n",
       "14       14                                               Stop\n",
       "15       15                                        No vehicles\n",
       "16       16           Vehicles over 3.5 metric tons prohibited\n",
       "17       17                                           No entry\n",
       "18       18                                    General caution\n",
       "19       19                        Dangerous curve to the left\n",
       "20       20                       Dangerous curve to the right\n",
       "21       21                                       Double curve\n",
       "22       22                                         Bumpy road\n",
       "23       23                                      Slippery road\n",
       "24       24                          Road narrows on the right\n",
       "25       25                                          Road work\n",
       "26       26                                    Traffic signals\n",
       "27       27                                        Pedestrians\n",
       "28       28                                  Children crossing\n",
       "29       29                                  Bicycles crossing\n",
       "30       30                                 Beware of ice/snow\n",
       "31       31                              Wild animals crossing\n",
       "32       32                End of all speed and passing limits\n",
       "33       33                                   Turn right ahead\n",
       "34       34                                    Turn left ahead\n",
       "35       35                                         Ahead only\n",
       "36       36                               Go straight or right\n",
       "37       37                                Go straight or left\n",
       "38       38                                         Keep right\n",
       "39       39                                          Keep left\n",
       "40       40                               Roundabout mandatory\n",
       "41       41                                  End of no passing\n",
       "42       42  End of no passing by vehicles over 3.5 metric ..."
      ]
     },
     "execution_count": 5,
     "metadata": {},
     "output_type": "execute_result"
    }
   ],
   "source": [
    "# Display Class Names and Ids\n",
    "\n",
    "import csv\n",
    "import pandas as pd\n",
    "\n",
    "file_name = 'ClassNames.csv'\n",
    "df = pd.read_csv(file_name)\n",
    "df\n"
   ]
  },
  {
   "cell_type": "code",
   "execution_count": 41,
   "metadata": {},
   "outputs": [
    {
     "data": {
      "text/plain": [
       "<matplotlib.text.Text at 0x1bec2a608d0>"
      ]
     },
     "execution_count": 41,
     "metadata": {},
     "output_type": "execute_result"
    },
    {
     "data": {
      "image/png": "[encoded data removed]",
      "text/plain": [
       "<matplotlib.figure.Figure at 0x1bdb7c22550>"
      ]
     },
     "metadata": {},
     "output_type": "display_data"
    }
   ],
   "source": [
    "## Count frequency of each label in training and test set\n",
    "\n",
    "tr_labels, tr_count = np.unique(train_labels, return_counts=True)\n",
    "\n",
    "###Plot training results\n",
    "plt.rcParams[\"figure.figsize\"] = [15, 5]\n",
    "axes = plt.gca()  #get current axes\n",
    "axes.set_xlim([-1, 43])\n",
    "\n",
    "plt.bar(tr_labels, tr_count, tick_label = tr_labels, width=0.8, align='center')\n",
    "plt.title('Class Distributions Across Training Data')\n",
    "\n"
   ]
  },
  {
   "cell_type": "code",
   "execution_count": 40,
   "metadata": {},
   "outputs": [
    {
     "data": {
      "text/plain": [
       "<matplotlib.text.Text at 0x1bdb7061160>"
      ]
     },
     "execution_count": 40,
     "metadata": {},
     "output_type": "execute_result"
    },
    {
     "data": {
      "image/png": "[encoded data removed]",
      "text/plain": [
       "<matplotlib.figure.Figure at 0x1be98fc7518>"
      ]
     },
     "metadata": {},
     "output_type": "display_data"
    }
   ],
   "source": [
    "###Plot test results\n",
    "te_labels, te_count = np.unique(test_labels, return_counts=True)\n",
    "\n",
    "###Plot training results\n",
    "plt.rcParams[\"figure.figsize\"] = [15, 5]\n",
    "axes = plt.gca()  #get current axes\n",
    "axes.set_xlim([-1, 43])\n",
    "\n",
    "plt.bar(te_labels, te_count, tick_label = te_labels, width=0.8, align='center')\n",
    "plt.title('Class Distributions Across Testing Data')"
   ]
  },
  {
   "cell_type": "code",
   "execution_count": 6,
   "metadata": {},
   "outputs": [
    {
     "data": {
      "text/plain": [
       "array([[[[ 28,  25,  24],\n",
       "         [ 27,  24,  23],\n",
       "         [ 27,  24,  22],\n",
       "         ..., \n",
       "         [ 32,  28,  24],\n",
       "         [ 31,  27,  25],\n",
       "         [ 31,  27,  26]],\n",
       "\n",
       "        [[ 29,  26,  25],\n",
       "         [ 27,  25,  23],\n",
       "         [ 27,  25,  23],\n",
       "         ..., \n",
       "         [ 32,  28,  24],\n",
       "         [ 31,  27,  24],\n",
       "         [ 30,  27,  25]],\n",
       "\n",
       "        [[ 28,  26,  26],\n",
       "         [ 27,  25,  23],\n",
       "         [ 26,  25,  23],\n",
       "         ..., \n",
       "         [ 32,  28,  24],\n",
       "         [ 31,  27,  24],\n",
       "         [ 30,  27,  25]],\n",
       "\n",
       "        ..., \n",
       "        [[ 27,  24,  23],\n",
       "         [ 28,  25,  24],\n",
       "         [ 30,  25,  24],\n",
       "         ..., \n",
       "         [ 27,  24,  23],\n",
       "         [ 28,  24,  22],\n",
       "         [ 29,  25,  22]],\n",
       "\n",
       "        [[ 28,  23,  23],\n",
       "         [ 29,  24,  24],\n",
       "         [ 31,  25,  24],\n",
       "         ..., \n",
       "         [ 27,  24,  23],\n",
       "         [ 28,  24,  22],\n",
       "         [ 28,  24,  21]],\n",
       "\n",
       "        [[ 29,  23,  23],\n",
       "         [ 30,  24,  24],\n",
       "         [ 32,  24,  23],\n",
       "         ..., \n",
       "         [ 27,  24,  22],\n",
       "         [ 27,  23,  21],\n",
       "         [ 26,  22,  20]]],\n",
       "\n",
       "\n",
       "       [[[ 28,  24,  24],\n",
       "         [ 26,  23,  23],\n",
       "         [ 27,  24,  24],\n",
       "         ..., \n",
       "         [ 31,  28,  26],\n",
       "         [ 31,  28,  27],\n",
       "         [ 32,  28,  27]],\n",
       "\n",
       "        [[ 27,  24,  24],\n",
       "         [ 27,  24,  24],\n",
       "         [ 28,  25,  24],\n",
       "         ..., \n",
       "         [ 31,  27,  25],\n",
       "         [ 31,  27,  26],\n",
       "         [ 33,  29,  27]],\n",
       "\n",
       "        [[ 26,  24,  24],\n",
       "         [ 26,  24,  24],\n",
       "         [ 27,  24,  23],\n",
       "         ..., \n",
       "         [ 31,  26,  25],\n",
       "         [ 31,  27,  26],\n",
       "         [ 33,  29,  27]],\n",
       "\n",
       "        ..., \n",
       "        [[ 28,  25,  23],\n",
       "         [ 30,  27,  24],\n",
       "         [ 30,  27,  24],\n",
       "         ..., \n",
       "         [ 27,  24,  22],\n",
       "         [ 27,  24,  22],\n",
       "         [ 28,  24,  22]],\n",
       "\n",
       "        [[ 27,  24,  22],\n",
       "         [ 29,  26,  23],\n",
       "         [ 31,  26,  24],\n",
       "         ..., \n",
       "         [ 26,  23,  21],\n",
       "         [ 27,  24,  22],\n",
       "         [ 28,  25,  23]],\n",
       "\n",
       "        [[ 28,  24,  23],\n",
       "         [ 28,  24,  22],\n",
       "         [ 29,  24,  22],\n",
       "         ..., \n",
       "         [ 27,  23,  22],\n",
       "         [ 27,  24,  23],\n",
       "         [ 29,  26,  25]]],\n",
       "\n",
       "\n",
       "       [[[ 29,  25,  25],\n",
       "         [ 29,  26,  26],\n",
       "         [ 30,  27,  27],\n",
       "         ..., \n",
       "         [ 31,  27,  24],\n",
       "         [ 31,  28,  25],\n",
       "         [ 32,  29,  27]],\n",
       "\n",
       "        [[ 27,  24,  24],\n",
       "         [ 27,  25,  25],\n",
       "         [ 28,  26,  26],\n",
       "         ..., \n",
       "         [ 31,  27,  23],\n",
       "         [ 32,  28,  25],\n",
       "         [ 33,  30,  27]],\n",
       "\n",
       "        [[ 27,  24,  24],\n",
       "         [ 28,  26,  26],\n",
       "         [ 29,  27,  27],\n",
       "         ..., \n",
       "         [ 32,  28,  24],\n",
       "         [ 32,  28,  24],\n",
       "         [ 33,  29,  26]],\n",
       "\n",
       "        ..., \n",
       "        [[ 28,  26,  22],\n",
       "         [ 29,  26,  21],\n",
       "         [ 31,  26,  22],\n",
       "         ..., \n",
       "         [ 29,  24,  21],\n",
       "         [ 28,  23,  20],\n",
       "         [ 28,  23,  22]],\n",
       "\n",
       "        [[ 27,  26,  23],\n",
       "         [ 28,  25,  21],\n",
       "         [ 30,  25,  22],\n",
       "         ..., \n",
       "         [ 28,  23,  21],\n",
       "         [ 27,  22,  20],\n",
       "         [ 28,  24,  22]],\n",
       "\n",
       "        [[ 29,  26,  23],\n",
       "         [ 28,  24,  21],\n",
       "         [ 29,  24,  21],\n",
       "         ..., \n",
       "         [ 29,  25,  23],\n",
       "         [ 28,  24,  22],\n",
       "         [ 30,  26,  24]]],\n",
       "\n",
       "\n",
       "       ..., \n",
       "       [[[ 51,  67,  86],\n",
       "         [ 55,  59,  71],\n",
       "         [ 75,  81,  92],\n",
       "         ..., \n",
       "         [250, 248, 243],\n",
       "         [207, 212, 233],\n",
       "         [121, 116, 140]],\n",
       "\n",
       "        [[ 35,  42,  49],\n",
       "         [ 48,  47,  51],\n",
       "         [ 91,  96, 113],\n",
       "         ..., \n",
       "         [220, 224, 226],\n",
       "         [169, 177, 187],\n",
       "         [ 84,  87, 100]],\n",
       "\n",
       "        [[ 27,  26,  29],\n",
       "         [ 41,  38,  39],\n",
       "         [ 55,  64,  78],\n",
       "         ..., \n",
       "         [122, 143, 160],\n",
       "         [ 97, 104, 129],\n",
       "         [ 59,  59,  56]],\n",
       "\n",
       "        ..., \n",
       "        [[ 24,  23,  27],\n",
       "         [ 21,  20,  27],\n",
       "         [ 20,  19,  22],\n",
       "         ..., \n",
       "         [ 76,  79,  83],\n",
       "         [ 54,  64,  77],\n",
       "         [ 45,  51,  65]],\n",
       "\n",
       "        [[ 31,  31,  33],\n",
       "         [ 22,  23,  29],\n",
       "         [ 20,  18,  21],\n",
       "         ..., \n",
       "         [ 66,  67,  84],\n",
       "         [ 56,  65,  74],\n",
       "         [ 45,  55,  73]],\n",
       "\n",
       "        [[ 28,  28,  30],\n",
       "         [ 22,  21,  25],\n",
       "         [ 19,  18,  19],\n",
       "         ..., \n",
       "         [ 67,  63,  76],\n",
       "         [ 39,  45,  55],\n",
       "         [ 32,  37,  47]]],\n",
       "\n",
       "\n",
       "       [[[ 82,  78,  96],\n",
       "         [120, 126, 148],\n",
       "         [112, 125, 146],\n",
       "         ..., \n",
       "         [185, 182, 177],\n",
       "         [204, 210, 215],\n",
       "         [132, 114, 121]],\n",
       "\n",
       "        [[ 74,  77,  93],\n",
       "         [171, 174, 185],\n",
       "         [137, 164, 184],\n",
       "         ..., \n",
       "         [180, 181, 187],\n",
       "         [198, 200, 213],\n",
       "         [ 79,  85,  85]],\n",
       "\n",
       "        [[ 54,  50,  56],\n",
       "         [100, 106, 118],\n",
       "         [117, 132, 158],\n",
       "         ..., \n",
       "         [157, 153, 160],\n",
       "         [176, 183, 199],\n",
       "         [ 88,  80,  82]],\n",
       "\n",
       "        ..., \n",
       "        [[ 22,  21,  22],\n",
       "         [ 20,  19,  19],\n",
       "         [ 18,  16,  19],\n",
       "         ..., \n",
       "         [ 50,  50,  60],\n",
       "         [ 37,  43,  52],\n",
       "         [ 30,  41,  59]],\n",
       "\n",
       "        [[ 18,  16,  18],\n",
       "         [ 19,  17,  18],\n",
       "         [ 19,  18,  21],\n",
       "         ..., \n",
       "         [ 36,  44,  60],\n",
       "         [ 33,  36,  48],\n",
       "         [ 36,  43,  61]],\n",
       "\n",
       "        [[ 18,  17,  20],\n",
       "         [ 21,  20,  23],\n",
       "         [ 24,  22,  25],\n",
       "         ..., \n",
       "         [ 32,  34,  41],\n",
       "         [ 45,  42,  48],\n",
       "         [ 41,  43,  52]]],\n",
       "\n",
       "\n",
       "       [[[ 69,  79,  96],\n",
       "         [ 24,  26,  28],\n",
       "         [ 40,  42,  45],\n",
       "         ..., \n",
       "         [225, 234, 237],\n",
       "         [151, 161, 166],\n",
       "         [164, 162, 169]],\n",
       "\n",
       "        [[ 99, 110, 125],\n",
       "         [ 36,  41,  47],\n",
       "         [ 63,  56,  62],\n",
       "         ..., \n",
       "         [197, 216, 224],\n",
       "         [154, 163, 169],\n",
       "         [164, 163, 159]],\n",
       "\n",
       "        [[104, 107, 113],\n",
       "         [ 34,  37,  40],\n",
       "         [ 72,  70,  77],\n",
       "         ..., \n",
       "         [223, 237, 235],\n",
       "         [181, 192, 198],\n",
       "         [166, 167, 159]],\n",
       "\n",
       "        ..., \n",
       "        [[ 21,  20,  23],\n",
       "         [ 23,  24,  30],\n",
       "         [ 19,  20,  24],\n",
       "         ..., \n",
       "         [ 45,  47,  54],\n",
       "         [ 58,  62,  70],\n",
       "         [ 58,  70,  82]],\n",
       "\n",
       "        [[ 18,  17,  21],\n",
       "         [ 19,  19,  24],\n",
       "         [ 18,  18,  23],\n",
       "         ..., \n",
       "         [ 36,  36,  40],\n",
       "         [ 58,  59,  70],\n",
       "         [ 61,  69,  81]],\n",
       "\n",
       "        [[ 17,  16,  19],\n",
       "         [ 16,  15,  18],\n",
       "         [ 16,  15,  18],\n",
       "         ..., \n",
       "         [ 40,  40,  44],\n",
       "         [ 57,  62,  73],\n",
       "         [ 57,  68,  80]]]], dtype=uint8)"
      ]
     },
     "execution_count": 6,
     "metadata": {},
     "output_type": "execute_result"
    }
   ],
   "source": [
    "# Display training set feature arrays\n",
    "# We can visually see the images need to be normalized before building model\n",
    "train_features"
   ]
  },
  {
   "cell_type": "code",
   "execution_count": 8,
   "metadata": {},
   "outputs": [
    {
     "name": "stdout",
     "output_type": "stream",
     "text": [
      "Total training examples = 34799\n",
      "Total validation examples = 4410\n",
      "Total testing examples = 12630\n",
      "Image data shape = (32, 32, 3)\n",
      "Number of classes = 43\n"
     ]
    }
   ],
   "source": [
    "##Generate basic stats (i.e. counts of classes, and items)\n",
    "## Note: image_shape output verifies that the images have been pre-cropped\n",
    "# Number of training examples\n",
    "num_train = train_features.shape[0]\n",
    "\n",
    "# Number of validation examples.\n",
    "num_valid = valid_features.shape[0]\n",
    "\n",
    "# Number of testing examples.\n",
    "num_test = test_features.shape[0]\n",
    "\n",
    "# Check shape of test features\n",
    "image_shape = test_features[0].shape\n",
    "\n",
    "# Total classes in dataset.\n",
    "num_classes = len(set(y_train))\n",
    "\n",
    "print(\"Total training examples =\", num_train)\n",
    "print(\"Total validation examples =\", num_valid)\n",
    "print(\"Total testing examples =\", num_test)\n",
    "print(\"Image data shape =\", image_shape)\n",
    "print(\"Number of classes =\", num_classes)"
   ]
  },
  {
   "cell_type": "code",
   "execution_count": 19,
   "metadata": {},
   "outputs": [
    {
     "name": "stdout",
     "output_type": "stream",
     "text": [
      "Vehicles over 3.5 metric tons prohibited\n",
      "Speed limit (30km/h)\n",
      "General caution\n",
      "Roundabout mandatory\n",
      "Keep right\n",
      "Speed limit (30km/h)\n",
      "No entry\n",
      "Road narrows on the right\n"
     ]
    },
    {
     "data": {
      "image/png": "[encoded data removed]",
      "text/plain": [
       "<matplotlib.figure.Figure at 0x1bdb788a588>"
      ]
     },
     "metadata": {},
     "output_type": "display_data"
    }
   ],
   "source": [
    "## Show image samples with corresponding class label\n",
    "## Will display a random set of 8 images from the training set\n",
    "## May be run multiple times to get a feel for the difference in image quality\n",
    "import matplotlib.pyplot as plt\n",
    "%matplotlib inline\n",
    "import random\n",
    "import csv  #for grabbing the name and class ids associated with images\n",
    " \n",
    "def show_images(plots, nrows = 1, ncols=1, labels=None):\n",
    "    fig, axs = plt.subplots(ncols=ncols, nrows=nrows, figsize=(6, 8))\n",
    "    axs = axs.ravel()\n",
    "    for index, title in zip(range(len(figures)), figures):\n",
    "        axs[index].imshow(figures[title])\n",
    "        if(labels != None):\n",
    "           axs[index].set_title(labels[index])\n",
    "        else:\n",
    "            axs[index].set_title(title)\n",
    "           \n",
    "        axs[index].set_axis_off()\n",
    "       \n",
    "    plt.tight_layout()\n",
    "   \n",
    "class_names = np.genfromtxt('ClassNames.csv', skip_header=1, dtype=[('myint','i8'), ('mysring','S55')], delimiter=',')\n",
    " \n",
    "num_examples = 8\n",
    "figures = {}\n",
    "labels = {}\n",
    "for i in range(num_examples):\n",
    "    index = random.randint(0, num_train-1)\n",
    "    labels[i] = class_names[train_labels[index]][1].decode('ascii') # format the labels (remobe the \"b'\" before each line)\n",
    "    print(class_names[train_labels[index]][1].decode('ascii'))\n",
    "    figures[i] = train_features[index]\n",
    "   \n",
    "show_images(plots, 4, 2, labels)"
   ]
  },
  {
   "cell_type": "code",
   "execution_count": 20,
   "metadata": {},
   "outputs": [
    {
     "name": "stdout",
     "output_type": "stream",
     "text": [
      "255 0 86.69812205\n",
      "255 3 79.4959406105\n",
      "255 0 81.8387044505\n"
     ]
    }
   ],
   "source": [
    "#Check pixel value ranges\n",
    "#Modified from example provided by: https://github.com/libphy/dldev/blob/master/CatDog.ipynb\n",
    "for i in range(3):\n",
    "    print(train_features[:,:,:,i].max(), train_features[:,:,:,i].min(), train_features[:,:,:,i].mean())"
   ]
  },
  {
   "cell_type": "code",
   "execution_count": 21,
   "metadata": {
    "collapsed": true
   },
   "outputs": [],
   "source": [
    "## Normalize \n",
    "## Code modified from: https://github.com/libphy/dldev/blob/master/CatDog.ipynb\n",
    "means = [train_features[:,:,:,i].mean() for i in range(3)]\n",
    "maxs = [train_features[:,:,:,i].max() for i in range(3)]\n",
    "mins = [train_features[:,:,:,i].min() for i in range(3)]\n",
    "Xn = np.concatenate([np.expand_dims((train_features[:,:,:,i]-means[i])/(maxs[i]-mins[i]), axis=3) for i in range(3)], axis=3)"
   ]
  },
  {
   "cell_type": "code",
   "execution_count": 22,
   "metadata": {},
   "outputs": [
    {
     "name": "stdout",
     "output_type": "stream",
     "text": [
      "34799\n",
      "34799\n"
     ]
    }
   ],
   "source": [
    "# Verify output lengths match\n",
    "print(len(train_features))\n",
    "print(len(Xn))"
   ]
  },
  {
   "cell_type": "code",
   "execution_count": 23,
   "metadata": {},
   "outputs": [
    {
     "name": "stdout",
     "output_type": "stream",
     "text": [
      "0.271701485559\n",
      "0.262975937109\n",
      "0.265750374423\n"
     ]
    }
   ],
   "source": [
    "## Verify standard dev for each image channel\n",
    "for i in range(3):\n",
    "    print(Xn[:,:,:,i].std())"
   ]
  },
  {
   "cell_type": "code",
   "execution_count": null,
   "metadata": {
    "collapsed": true
   },
   "outputs": [],
   "source": []
  },
  {
   "cell_type": "code",
   "execution_count": 24,
   "metadata": {
    "collapsed": true
   },
   "outputs": [],
   "source": [
    "## Import keras libraries for model building\n",
    "import keras\n",
    "from keras.models import Sequential\n",
    "from keras.layers.core import Dense, Activation, Flatten, Dropout\n",
    "from keras.layers.convolutional import Convolution2D\n",
    "from keras.layers.pooling import MaxPooling2D\n",
    "from keras.optimizers import SGD\n",
    "from sklearn.utils import shuffle\n",
    "from keras.utils.np_utils import to_categorical"
   ]
  },
  {
   "cell_type": "code",
   "execution_count": 30,
   "metadata": {},
   "outputs": [
    {
     "name": "stderr",
     "output_type": "stream",
     "text": [
      "C:\\Users\\satur\\Anaconda3\\lib\\site-packages\\ipykernel_launcher.py:10: UserWarning: Update your `Conv2D` call to the Keras 2 API: `Conv2D(16, (3, 3), input_shape=(32, 32, 3..., activation=\"relu\")`\n",
      "  # Remove the CWD from sys.path while we load stuff.\n"
     ]
    }
   ],
   "source": [
    "################\n",
    "## 2D Model #1\n",
    "## Using Keras Sequential model\n",
    "## Optimizer = SGD (stochastic gradient descent)\n",
    "## Activation = relu\n",
    "## 2 dense layers set to 43, and 512\n",
    "## Loss = categorical crossentropy\n",
    "###############\n",
    "model = Sequential()\n",
    "model.add(Convolution2D(16,3,3, input_shape=(32,32,3), activation='relu'))\n",
    "model.add(Flatten())\n",
    "model.add(Dense(512))\n",
    "model.add(Dense(43))\n",
    "model.add(Activation('softmax'))\n",
    "sgd = SGD(lr=0.01, decay=0.01, momentum=0.9)\n",
    "model.compile(optimizer=sgd, loss=\"categorical_crossentropy\", metrics=['acc'])"
   ]
  },
  {
   "cell_type": "code",
   "execution_count": 29,
   "metadata": {
    "collapsed": true
   },
   "outputs": [],
   "source": [
    "#Training Data\n",
    "\n",
    "Y = to_categorical(train_labels)  \n",
    "Xtr, ytr = shuffle(Xn,Y,random_state=0)\n",
    "\n",
    "#Testing Data (one hot encoding)\n",
    "Y_test = to_categorical(test_labels)"
   ]
  },
  {
   "cell_type": "code",
   "execution_count": 33,
   "metadata": {
    "scrolled": false
   },
   "outputs": [
    {
     "name": "stdout",
     "output_type": "stream",
     "text": [
      "Train on 34799 samples, validate on 12630 samples\n",
      "Epoch 1/15\n",
      "34799/34799 [==============================] - 90s - loss: 0.1580 - acc: 0.9718 - val_loss: 3.3518 - val_acc: 0.7881\n",
      "Epoch 2/15\n",
      "34799/34799 [==============================] - 89s - loss: 0.1559 - acc: 0.9716 - val_loss: 3.3367 - val_acc: 0.7908\n",
      "Epoch 3/15\n",
      "34799/34799 [==============================] - 89s - loss: 0.1539 - acc: 0.9728 - val_loss: 3.3593 - val_acc: 0.7888\n",
      "Epoch 4/15\n",
      "34799/34799 [==============================] - 90s - loss: 0.1521 - acc: 0.9730 - val_loss: 3.3321 - val_acc: 0.7895\n",
      "Epoch 5/15\n",
      "34799/34799 [==============================] - 89s - loss: 0.1504 - acc: 0.9739 - val_loss: 3.3624 - val_acc: 0.7884\n",
      "Epoch 6/15\n",
      "34799/34799 [==============================] - 90s - loss: 0.1488 - acc: 0.9736 - val_loss: 3.3472 - val_acc: 0.7886\n",
      "Epoch 7/15\n",
      "34799/34799 [==============================] - 94s - loss: 0.1472 - acc: 0.9745 - val_loss: 3.3863 - val_acc: 0.7869\n",
      "Epoch 8/15\n",
      "34799/34799 [==============================] - 91s - loss: 0.1457 - acc: 0.9747 - val_loss: 3.3749 - val_acc: 0.7873\n",
      "Epoch 9/15\n",
      "34799/34799 [==============================] - 98s - loss: 0.1444 - acc: 0.9748 - val_loss: 3.3664 - val_acc: 0.7884\n",
      "Epoch 10/15\n",
      "34799/34799 [==============================] - 91s - loss: 0.1432 - acc: 0.9754 - val_loss: 3.3773 - val_acc: 0.7876\n",
      "Epoch 11/15\n",
      "34799/34799 [==============================] - 90s - loss: 0.1420 - acc: 0.9754 - val_loss: 3.3665 - val_acc: 0.7878\n",
      "Epoch 12/15\n",
      "34799/34799 [==============================] - 90s - loss: 0.1410 - acc: 0.9755 - val_loss: 3.3807 - val_acc: 0.7869\n",
      "Epoch 13/15\n",
      "34799/34799 [==============================] - 90s - loss: 0.1398 - acc: 0.9763 - val_loss: 3.3945 - val_acc: 0.7861\n",
      "Epoch 14/15\n",
      "34799/34799 [==============================] - 90s - loss: 0.1388 - acc: 0.9761 - val_loss: 3.3623 - val_acc: 0.7884\n",
      "Epoch 15/15\n",
      "34799/34799 [==============================] - 93s - loss: 0.1379 - acc: 0.9762 - val_loss: 3.3521 - val_acc: 0.7892\n"
     ]
    },
    {
     "data": {
      "text/plain": [
       "<keras.callbacks.History at 0x1bdb723d400>"
      ]
     },
     "execution_count": 33,
     "metadata": {},
     "output_type": "execute_result"
    }
   ],
   "source": [
    "## Fit model 1\n",
    "model.fit(Xtr, ytr, batch_size=32, epochs=15, validation_data=(test_features, Y_test))"
   ]
  },
  {
   "cell_type": "code",
   "execution_count": 35,
   "metadata": {},
   "outputs": [
    {
     "name": "stdout",
     "output_type": "stream",
     "text": [
      "Loss: 3.352072559\n"
     ]
    }
   ],
   "source": [
    "#Calculate loss\n",
    "score = model.evaluate(test_features, Y_test,  verbose=0)\n",
    "print('Loss:', score[0])"
   ]
  },
  {
   "cell_type": "code",
   "execution_count": 36,
   "metadata": {
    "collapsed": true
   },
   "outputs": [],
   "source": [
    "#Save Model Weights\n",
    "\n",
    "fname = \"Model_1_CNN.hdf5\"\n",
    "model.save_weights(fname,overwrite=True)"
   ]
  },
  {
   "cell_type": "code",
   "execution_count": 20,
   "metadata": {
    "collapsed": true
   },
   "outputs": [],
   "source": [
    "#Load Model Weights\n",
    "\n",
    "fname = \"Model_1_CNN.hdf5\"\n",
    "model.load_weights(fname)"
   ]
  },
  {
   "cell_type": "code",
   "execution_count": 45,
   "metadata": {
    "collapsed": true
   },
   "outputs": [],
   "source": [
    "###########\n",
    "## Model #2\n",
    "## Using Keras Sequential model\n",
    "## Optimizer = Adagrad\n",
    "## Activation = relu\n",
    "## 2 dense layers set to 43, and 512\n",
    "## Loss = categorical crossentropy\n",
    "###############\n",
    "from keras import optimizers\n",
    "from keras.optimizers import Adagrad"
   ]
  },
  {
   "cell_type": "code",
   "execution_count": 52,
   "metadata": {},
   "outputs": [
    {
     "name": "stderr",
     "output_type": "stream",
     "text": [
      "C:\\Users\\satur\\Anaconda3\\lib\\site-packages\\ipykernel_launcher.py:2: UserWarning: Update your `Conv2D` call to the Keras 2 API: `Conv2D(16, (3, 3), input_shape=(32, 32, 3..., activation=\"relu\")`\n",
      "  \n"
     ]
    }
   ],
   "source": [
    "ada_model = Sequential()\n",
    "ada_model.add(Convolution2D(16,3,3, input_shape=(32,32,3), activation='relu'))\n",
    "ada_model.add(Flatten())\n",
    "ada_model.add(Dense(512))\n",
    "ada_model.add(Dense(43))\n",
    "ada_model.add(Activation('softmax'))\n",
    "ada = keras.optimizers.Adagrad(lr=0.01, decay=0.01)\n",
    "ada_model.compile(optimizer=ada, loss=\"categorical_crossentropy\", metrics=['acc'])"
   ]
  },
  {
   "cell_type": "code",
   "execution_count": null,
   "metadata": {
    "collapsed": true
   },
   "outputs": [],
   "source": [
    "\n"
   ]
  },
  {
   "cell_type": "code",
   "execution_count": 53,
   "metadata": {},
   "outputs": [
    {
     "name": "stdout",
     "output_type": "stream",
     "text": [
      "Train on 34799 samples, validate on 12630 samples\n",
      "Epoch 1/15\n",
      "34799/34799 [==============================] - 130s - loss: 0.7825 - acc: 0.8274 - val_loss: 4.7042 - val_acc: 0.6992\n",
      "Epoch 2/15\n",
      "34799/34799 [==============================] - 130s - loss: 0.3659 - acc: 0.9259 - val_loss: 4.3751 - val_acc: 0.7203\n",
      "Epoch 3/15\n",
      "34799/34799 [==============================] - 130s - loss: 0.3290 - acc: 0.9342 - val_loss: 4.2528 - val_acc: 0.7279\n",
      "Epoch 4/15\n",
      "34799/34799 [==============================] - 129s - loss: 0.3114 - acc: 0.9384 - val_loss: 4.1723 - val_acc: 0.7331\n",
      "Epoch 5/15\n",
      "34799/34799 [==============================] - 137s - loss: 0.3008 - acc: 0.9402 - val_loss: 4.1244 - val_acc: 0.7357\n",
      "Epoch 6/15\n",
      "34799/34799 [==============================] - 153s - loss: 0.2935 - acc: 0.9417 - val_loss: 4.1093 - val_acc: 0.7371\n",
      "Epoch 7/15\n",
      "34799/34799 [==============================] - 141s - loss: 0.2884 - acc: 0.9429 - val_loss: 4.1013 - val_acc: 0.7378\n",
      "Epoch 8/15\n",
      "34799/34799 [==============================] - 136s - loss: 0.2844 - acc: 0.9441 - val_loss: 4.0896 - val_acc: 0.7382\n",
      "Epoch 9/15\n",
      "34799/34799 [==============================] - 132s - loss: 0.2813 - acc: 0.9447 - val_loss: 4.0784 - val_acc: 0.7393\n",
      "Epoch 10/15\n",
      "34799/34799 [==============================] - 133s - loss: 0.2787 - acc: 0.9451 - val_loss: 4.0752 - val_acc: 0.7393\n",
      "Epoch 11/15\n",
      "34799/34799 [==============================] - 132s - loss: 0.2765 - acc: 0.9458 - val_loss: 4.0672 - val_acc: 0.7397\n",
      "Epoch 12/15\n",
      "34799/34799 [==============================] - 131s - loss: 0.2747 - acc: 0.9462 - val_loss: 4.0622 - val_acc: 0.7401\n",
      "Epoch 13/15\n",
      "34799/34799 [==============================] - 133s - loss: 0.2730 - acc: 0.9466 - val_loss: 4.0567 - val_acc: 0.7406\n",
      "Epoch 14/15\n",
      "34799/34799 [==============================] - 131s - loss: 0.2716 - acc: 0.9469 - val_loss: 4.0541 - val_acc: 0.7407\n",
      "Epoch 15/15\n",
      "34799/34799 [==============================] - 134s - loss: 0.2704 - acc: 0.9469 - val_loss: 4.0514 - val_acc: 0.7414\n"
     ]
    },
    {
     "data": {
      "text/plain": [
       "<keras.callbacks.History at 0x1bec2ca2cf8>"
      ]
     },
     "execution_count": 53,
     "metadata": {},
     "output_type": "execute_result"
    }
   ],
   "source": [
    "ada_model.fit(Xtr, ytr, batch_size=32, epochs=15, validation_data=(test_features, Y_test))"
   ]
  },
  {
   "cell_type": "code",
   "execution_count": 56,
   "metadata": {},
   "outputs": [
    {
     "name": "stdout",
     "output_type": "stream",
     "text": [
      "Ada Loss: 4.05138224883\n"
     ]
    }
   ],
   "source": [
    "#Calculate loss Adagrad\n",
    "ada_score = ada_model.evaluate(test_features, Y_test,  verbose=0)\n",
    "print('Ada Loss:', ada_score[0])"
   ]
  },
  {
   "cell_type": "code",
   "execution_count": 57,
   "metadata": {
    "collapsed": true
   },
   "outputs": [],
   "source": [
    "############\n",
    "## 2D Model #3\n",
    "## Using keras sequential model\n",
    "##optimizer = adam\n",
    "## activation =relu\n",
    "## 2 dense layers set to 43, and 512\n",
    "## loss = categorical crossentropy\n",
    "from keras import optimizers\n",
    "from keras.optimizers import Adam"
   ]
  },
  {
   "cell_type": "code",
   "execution_count": 62,
   "metadata": {},
   "outputs": [
    {
     "name": "stderr",
     "output_type": "stream",
     "text": [
      "C:\\Users\\satur\\Anaconda3\\lib\\site-packages\\ipykernel_launcher.py:2: UserWarning: Update your `Conv2D` call to the Keras 2 API: `Conv2D(16, (3, 3), input_shape=(32, 32, 3..., activation=\"relu\")`\n",
      "  \n"
     ]
    }
   ],
   "source": [
    "adam_model = Sequential()\n",
    "adam_model.add(Convolution2D(16,3,3, input_shape=(32,32,3), activation='relu'))\n",
    "adam_model.add(Flatten())\n",
    "adam_model.add(Dense(512))\n",
    "adam_model.add(Dense(43))\n",
    "adam_model.add(Activation('softmax'))\n",
    "adam = keras.optimizers.Adam(lr=0.001,beta_1=0.9, beta_2=0.999, epsilon=1e-08, decay=0.00 ) ## Changed to recommended parameters\n",
    "adam_model.compile(optimizer=adam, loss=\"categorical_crossentropy\", metrics=['acc'])"
   ]
  },
  {
   "cell_type": "code",
   "execution_count": 63,
   "metadata": {},
   "outputs": [
    {
     "name": "stdout",
     "output_type": "stream",
     "text": [
      "Train on 34799 samples, validate on 12630 samples\n",
      "Epoch 1/15\n",
      "34799/34799 [==============================] - 143s - loss: 0.5623 - acc: 0.8585 - val_loss: 3.0051 - val_acc: 0.8119\n",
      "Epoch 2/15\n",
      "34799/34799 [==============================] - 143s - loss: 0.1550 - acc: 0.9605 - val_loss: 2.0540 - val_acc: 0.8709\n",
      "Epoch 3/15\n",
      "34799/34799 [==============================] - 143s - loss: 0.1066 - acc: 0.9716 - val_loss: 2.2442 - val_acc: 0.8595\n",
      "Epoch 4/15\n",
      "34799/34799 [==============================] - 142s - loss: 0.1034 - acc: 0.9748 - val_loss: 2.2907 - val_acc: 0.8572\n",
      "Epoch 5/15\n",
      "34799/34799 [==============================] - 143s - loss: 0.0831 - acc: 0.9786 - val_loss: 2.4983 - val_acc: 0.8443\n",
      "Epoch 6/15\n",
      "34799/34799 [==============================] - 143s - loss: 0.0588 - acc: 0.9854 - val_loss: 3.3145 - val_acc: 0.7938\n",
      "Epoch 7/15\n",
      "34799/34799 [==============================] - 147s - loss: 0.0963 - acc: 0.9779 - val_loss: 1.9599 - val_acc: 0.8773\n",
      "Epoch 8/15\n",
      "34799/34799 [==============================] - 151s - loss: 0.0569 - acc: 0.9862 - val_loss: 2.3259 - val_acc: 0.8551\n",
      "Epoch 9/15\n",
      "34799/34799 [==============================] - 167s - loss: 0.0516 - acc: 0.9877 - val_loss: 2.1868 - val_acc: 0.8637\n",
      "Epoch 10/15\n",
      "34799/34799 [==============================] - 160s - loss: 0.0526 - acc: 0.9884 - val_loss: 2.3487 - val_acc: 0.8537\n",
      "Epoch 11/15\n",
      "34799/34799 [==============================] - 174s - loss: 0.0526 - acc: 0.9881 - val_loss: 3.0605 - val_acc: 0.8094\n",
      "Epoch 12/15\n",
      "34799/34799 [==============================] - 196s - loss: 0.0580 - acc: 0.9876 - val_loss: 2.8449 - val_acc: 0.8230\n",
      "Epoch 13/15\n",
      "34799/34799 [==============================] - 184s - loss: 0.0585 - acc: 0.9876 - val_loss: 3.0606 - val_acc: 0.8097\n",
      "Epoch 14/15\n",
      "34799/34799 [==============================] - 193s - loss: 0.0437 - acc: 0.9910 - val_loss: 2.6046 - val_acc: 0.8380\n",
      "Epoch 15/15\n",
      "34799/34799 [==============================] - 192s - loss: 0.0528 - acc: 0.9898 - val_loss: 2.1295 - val_acc: 0.8674\n"
     ]
    },
    {
     "data": {
      "text/plain": [
       "<keras.callbacks.History at 0x1bf80324630>"
      ]
     },
     "execution_count": 63,
     "metadata": {},
     "output_type": "execute_result"
    }
   ],
   "source": [
    "adam_model.fit(Xtr, ytr, batch_size=32, epochs=15, validation_data=(test_features, Y_test))\n"
   ]
  },
  {
   "cell_type": "code",
   "execution_count": 64,
   "metadata": {},
   "outputs": [
    {
     "name": "stdout",
     "output_type": "stream",
     "text": [
      "Adam Loss: 2.1295039485\n"
     ]
    }
   ],
   "source": [
    "#Calculate loss Adam\n",
    "adam_score = adam_model.evaluate(test_features, Y_test,  verbose=0)\n",
    "print('Adam Loss:', adam_score[0])"
   ]
  },
  {
   "cell_type": "code",
   "execution_count": null,
   "metadata": {
    "collapsed": true
   },
   "outputs": [],
   "source": []
  },
  {
   "cell_type": "code",
   "execution_count": 21,
   "metadata": {
    "collapsed": true
   },
   "outputs": [],
   "source": []
  },
  {
   "cell_type": "code",
   "execution_count": null,
   "metadata": {
    "collapsed": true
   },
   "outputs": [],
   "source": []
  }
 ],
 "metadata": {
  "kernelspec": {
   "display_name": "Python 3",
   "language": "python",
   "name": "python3"
  },
  "language_info": {
   "codemirror_mode": {
    "name": "ipython",
    "version": 3
   },
   "file_extension": ".py",
   "mimetype": "text/x-python",
   "name": "python",
   "nbconvert_exporter": "python",
   "pygments_lexer": "ipython3",
   "version": "3.6.1"
  }
 },
 "nbformat": 4,
 "nbformat_minor": 2
}
